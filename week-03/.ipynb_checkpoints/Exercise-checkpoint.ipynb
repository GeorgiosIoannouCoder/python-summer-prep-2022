{
 "cells": [
  {
   "cell_type": "markdown",
   "metadata": {},
   "source": [
    "# Ioannou_Georgios"
   ]
  },
  {
   "cell_type": "markdown",
   "metadata": {},
   "source": [
    "## Copyright © 2022 by Georgios Ioannou"
   ]
  },
  {
   "cell_type": "markdown",
   "metadata": {},
   "source": [
    "## #1 Figure out how to print the current date and time. \n",
    "The solution should be in this format:  2021-08-05 11:56:30 (YYYY-MM-DD HH:MM:SS)\n",
    "\n",
    "Hint:  You're going to have to import a library"
   ]
  },
  {
   "cell_type": "code",
   "execution_count": 1,
   "metadata": {},
   "outputs": [
    {
     "name": "stdout",
     "output_type": "stream",
     "text": [
      "2022-08-16 13:04:11\n"
     ]
    }
   ],
   "source": [
    "# Import class datetime from module datetime.\n",
    "from datetime import datetime\n",
    "\n",
    "# today is a datetime object containing current date and time.\n",
    "today = datetime.now()\n",
    "# Format the datetime object to the desired string representation.\n",
    "datetime_string_format = today.strftime('%Y-%m-%d %X')\n",
    "# Print the result.\n",
    "print(datetime_string_format)"
   ]
  },
  {
   "cell_type": "markdown",
   "metadata": {},
   "source": [
    "## #2 Write a function that accepts the radius of a circle and returns the area of a circle.  \n",
    "The function for the area of a circle is pi * radius squared.  "
   ]
  },
  {
   "cell_type": "code",
   "execution_count": 2,
   "metadata": {},
   "outputs": [
    {
     "name": "stdout",
     "output_type": "stream",
     "text": [
      "The area of a circle with radius 3 is: 28.274333882308138\n",
      "The area of a circle with radius 15 is: 706.8583470577034\n",
      "The area of a circle with radius 70 is: 15393.804002589986\n"
     ]
    }
   ],
   "source": [
    "# Import float constant pi from module math.\n",
    "from math import pi\n",
    "\n",
    "\n",
    "# Function that accepts the radius of a circle and returns the area of a circle.\n",
    "# The function for the area of a circle is pi * radius squared.\n",
    "def area_of_circle(r):\n",
    "    return pi * (r ** 2)\n",
    "\n",
    "\n",
    "# Call the function and print the result.\n",
    "print('The area of a circle with radius 3 is:', area_of_circle(3))\n",
    "print('The area of a circle with radius 15 is:', area_of_circle(15))\n",
    "print('The area of a circle with radius 70 is:', area_of_circle(70))"
   ]
  },
  {
   "cell_type": "markdown",
   "metadata": {},
   "source": [
    "## #3 Write a function that takes a list of numbers and returns True of all number in the list are unique and returns False if the list contains duplicate numbers. \n",
    "* Hint, maybe think of using a set()\n",
    "\n",
    "Input:  input_list = [2,4,5,5,7,9]\n",
    "\n",
    "Expected Output:  False"
   ]
  },
  {
   "cell_type": "code",
   "execution_count": 3,
   "metadata": {},
   "outputs": [
    {
     "name": "stdout",
     "output_type": "stream",
     "text": [
      "The input_list is: [2, 4, 5, 5, 7, 9]\n",
      "Question: Are all numbers in the input_list unique?\n",
      "Answer: False\n"
     ]
    }
   ],
   "source": [
    "# Function that takes a list of numbers and returns True if all numbers in the list are unique\n",
    "# and returns False if the list contains duplicate numbers.\n",
    "def is_unique(input_list):\n",
    "    # Convert the input_list to a set.\n",
    "    # Set elements are unique. Duplicate elements are not allowed in a set.\n",
    "    input_set = set(input_list)\n",
    "    # If the size of the input_set matches the size of the input_list,\n",
    "    # then all the elements in the input_list are unique and therefore the function returns True.\n",
    "    # If the size of the input_set does not match the size of the input_list,\n",
    "    # then not all the elements in the input_list are unique and therefore the function returns False.\n",
    "    if len(input_set) == len(input_list):\n",
    "        return True\n",
    "    return False\n",
    "\n",
    "\n",
    "input_list = [2, 4, 5, 5, 7, 9]\n",
    "\n",
    "# Call the function and print the result.\n",
    "print('The input_list is:', input_list)\n",
    "print('Question: Are all numbers in the input_list unique?')\n",
    "print('Answer:', is_unique(input_list))"
   ]
  },
  {
   "cell_type": "markdown",
   "metadata": {},
   "source": [
    "## #4 Write a Python program to count the number of each character of a given text of a text file.\n",
    "* Use the text file called 'lil-wayne.txt' in the data folder.  \n",
    "* Convert all the characters to uppercase first, then count them.  \n",
    "* Use a dictionary in which the keys of the dictionary are the characters, and the values are the counts of that character. \n",
    "\n",
    "Expected Result:  `{'D': 74, 'W': 63, 'A': 211, 'Y': 44, 'N': 165, 'E': 274, ' ': 522, 'M': 77, 'I': 185, 'C': 60, 'H': 122, 'L': 126, 'R': 152, 'T': 180, 'J': 8, '.': 26, '(': 12, 'B': 59, 'O': 145, 'S': 152, 'P': 39, '2': 24, '7': 7, ',': 37, '1': 28, '9': 16, '8': 6, ')': 12, '[': 14, ']': 14, 'K': 13, 'F': 44, 'G': 53, 'X': 5, 'U': 66, 'V': 20, '3': 2, '4': 4, '5': 5, '6': 3, '0': 36, '\\n': 6, '-': 6, ';': 1, '!': 1, '\"': 8, \"'\": 3, '—': 1}`"
   ]
  },
  {
   "cell_type": "code",
   "execution_count": 7,
   "metadata": {},
   "outputs": [
    {
     "name": "stdout",
     "output_type": "stream",
     "text": [
      "Solution 1\n",
      "Counter({' ': 522, 'E': 274, 'A': 211, 'I': 185, 'T': 180, 'N': 165, 'R': 152, 'S': 152, 'O': 145, 'L': 126, 'H': 122, 'M': 77, 'D': 74, 'U': 66, 'W': 63, 'C': 60, 'B': 59, 'G': 53, 'Y': 44, 'F': 44, 'P': 39, ',': 37, '0': 36, '1': 28, '.': 26, '2': 24, 'V': 20, '9': 16, '[': 14, ']': 14, 'K': 13, '(': 12, ')': 12, 'J': 8, '7': 7, '8': 6, '\\n': 6, '-': 6, 'X': 5, '5': 5, '4': 4, '6': 3, '3': 2, ';': 1, '!': 1, 'Â': 1, '€': 1, '”': 1})\n",
      "\n",
      "Solution 2\n",
      "{'D': 74, 'W': 63, 'A': 211, 'Y': 44, 'N': 165, 'E': 274, ' ': 522, 'M': 77, 'I': 185, 'C': 60, 'H': 122, 'L': 126, 'R': 152, 'T': 180, 'J': 8, '.': 26, '(': 12, 'B': 59, 'O': 145, 'S': 152, 'P': 39, '2': 24, '7': 7, ',': 37, '1': 28, '9': 16, '8': 6, ')': 12, '[': 14, ']': 14, 'K': 13, 'F': 44, 'G': 53, 'X': 5, 'U': 66, 'V': 20, '3': 2, '4': 4, '5': 5, '6': 3, '0': 36, '\\n': 6, '-': 6, ';': 1, '!': 1, 'Â': 1, '€': 1, '”': 1}\n"
     ]
    }
   ],
   "source": [
    "# Solution 1\n",
    "# Import Counter from module collections.\n",
    "from collections import Counter\n",
    "\n",
    "# Define the path to the file you want to read.\n",
    "path_to_file = 'data/lil-wayne.txt'\n",
    "\n",
    "# Open the file and return a stream.\n",
    "file_handle = open(file=path_to_file)\n",
    "# Read the file and store the string into data.\n",
    "data = file_handle.read()\n",
    "# Close the file.\n",
    "file_handle.close()\n",
    "\n",
    "# Convert all the characters to uppercase.\n",
    "data_uppercase = data.upper()\n",
    "\n",
    "# Use the Counter to map from each key to the number of times it appears.\n",
    "count = Counter(data_uppercase)\n",
    "\n",
    "# Print the result.\n",
    "print('Solution 1')\n",
    "print(count)\n",
    "\n",
    "# Solution 2\n",
    "# Create an empty list which will store all the data.\n",
    "data_list = []\n",
    "\n",
    "# Append all the characters to the list.\n",
    "for character in data_uppercase:\n",
    "    data_list.append(character)\n",
    "\n",
    "# Create an empty dictionary in which the keys of the dictionary are the characters,\n",
    "# and the values are the counts of that character.\n",
    "character_dictionary = {}\n",
    "\n",
    "for character in data_list:\n",
    "    value = data_list.count(character)\n",
    "    key = character\n",
    "    character_dictionary[key] = value\n",
    "\n",
    "# Print the result.\n",
    "print()\n",
    "print('Solution 2')\n",
    "print(character_dictionary)"
   ]
  },
  {
   "cell_type": "markdown",
   "metadata": {},
   "source": [
    "# 4.5 Figure out how to sort the dictionary to find which character appears the most."
   ]
  },
  {
   "cell_type": "code",
   "execution_count": 8,
   "metadata": {},
   "outputs": [
    {
     "name": "stdout",
     "output_type": "stream",
     "text": [
      "{' ': 522, 'E': 274, 'A': 211, 'I': 185, 'T': 180, 'N': 165, 'R': 152, 'S': 152, 'O': 145, 'L': 126, 'H': 122, 'M': 77, 'D': 74, 'U': 66, 'W': 63, 'C': 60, 'B': 59, 'G': 53, 'Y': 44, 'F': 44, 'P': 39, ',': 37, '0': 36, '1': 28, '.': 26, '2': 24, 'V': 20, '9': 16, '[': 14, ']': 14, 'K': 13, '(': 12, ')': 12, 'J': 8, '7': 7, '8': 6, '\\n': 6, '-': 6, 'X': 5, '5': 5, '4': 4, '6': 3, '3': 2, ';': 1, '!': 1, 'Â': 1, '€': 1, '”': 1}\n"
     ]
    }
   ],
   "source": [
    "# Sort the above dictionary to find which character appears the most.\n",
    "sorted_character_dictionary = {key: value for key, value in\n",
    "                               sorted(character_dictionary.items(), key=lambda item: item[1], reverse=True)}\n",
    "print(sorted_character_dictionary)"
   ]
  },
  {
   "cell_type": "markdown",
   "metadata": {},
   "source": [
    "## #5 Using the list below...\n",
    "* Remove the fourth number from the list.\n",
    "* Take that number you just removed and multiply the last number of the list by that number. \n",
    "* Append that number to the end of the list.\n",
    "* Print the list\n",
    "\n",
    "INPUT: [1, 1, 2, 3, 5, 8, 13, 21]\n",
    "\n",
    "EXPECTED OUTPUT:  [1, 1, 2, 5, 8, 13, 21, 63]\n",
    "\n"
   ]
  },
  {
   "cell_type": "code",
   "execution_count": 9,
   "metadata": {},
   "outputs": [
    {
     "name": "stdout",
     "output_type": "stream",
     "text": [
      "list1: [1, 1, 2, 5, 8, 13, 21, 63]\n"
     ]
    }
   ],
   "source": [
    "# Input list.\n",
    "list1 = [1, 1, 2, 3, 5, 8, 13, 21]\n",
    "\n",
    "# Remove the fourth number from the list.\n",
    "fourth_number = list1.pop(3)\n",
    "\n",
    "# Take that number you just removed and multiply the last number of the list by that number.\n",
    "# list1[len(list1) - 1]  == list1[-1]\n",
    "new_number = fourth_number * list1[len(list1) - 1]\n",
    "\n",
    "# Append that number to the end of the list.\n",
    "list1.append(new_number)\n",
    "\n",
    "# Print the list.\n",
    "print('list1:', list1)"
   ]
  },
  {
   "cell_type": "markdown",
   "metadata": {},
   "source": [
    "## #6 Using the list below, make a new list that contains only the numbers from the original list that are divisible by three.\n",
    "\n",
    "* Input:  original_list = [2, 3, 6, 8, 9, 15, 19, 21]\n",
    "* Expected new list:  [3, 6, 9, 15, 21]\n"
   ]
  },
  {
   "cell_type": "code",
   "execution_count": 11,
   "metadata": {},
   "outputs": [
    {
     "name": "stdout",
     "output_type": "stream",
     "text": [
      "original_list: [2, 3, 6, 8, 9, 15, 19, 21]\n",
      "new_list: [3, 6, 9, 15, 21]\n"
     ]
    }
   ],
   "source": [
    "# Using the list below, make a new list that contains only the numbers from the original list\n",
    "# that are divisible by three.\n",
    "original_list = [2, 3, 6, 8, 9, 15, 19, 21]\n",
    "new_list = []\n",
    "\n",
    "for number in original_list:\n",
    "    # If number is divided by three and the remainder is zero, then it is divisible by three.\n",
    "    # Therefore, append it to the new_list.\n",
    "    if (number % 3) == 0:\n",
    "        new_list.append(number)\n",
    "\n",
    "# Print the result.\n",
    "print('original_list:', original_list)\n",
    "print('new_list:', new_list)"
   ]
  },
  {
   "cell_type": "markdown",
   "metadata": {},
   "source": [
    "## #7 Reverse the list below"
   ]
  },
  {
   "cell_type": "code",
   "execution_count": 12,
   "metadata": {},
   "outputs": [
    {
     "name": "stdout",
     "output_type": "stream",
     "text": [
      "original_list: [21, 19, 15, 9, 8, 6, 3, 2]\n"
     ]
    }
   ],
   "source": [
    "# Reverse the list below.\n",
    "original_list = [2, 3, 6, 8, 9, 15, 19, 21]\n",
    "original_list.reverse()\n",
    "# Print the result.\n",
    "print('original_list:', original_list)"
   ]
  },
  {
   "cell_type": "markdown",
   "metadata": {},
   "source": [
    "## #8 Using the list below, turn every item of the list into its square.  \n",
    "* Input original_list = [1, 2, 3, 4, 5, 6, 7]\n",
    "* Expected new_list:  [1, 4, 9, 16, 25, 36, 49]\n"
   ]
  },
  {
   "cell_type": "code",
   "execution_count": 13,
   "metadata": {},
   "outputs": [
    {
     "name": "stdout",
     "output_type": "stream",
     "text": [
      "original_list: [1, 2, 3, 4, 5, 6, 7]\n",
      "new_list: [1, 4, 9, 16, 25, 36, 49]\n"
     ]
    }
   ],
   "source": [
    "# Using the list below, turn every item of the list into its square.\n",
    "original_list = [1, 2, 3, 4, 5, 6, 7]\n",
    "new_list = []\n",
    "\n",
    "for number in original_list:\n",
    "    new_list.append(number ** 2)\n",
    "\n",
    "# Print ther result.\n",
    "print('original_list:', original_list)\n",
    "print('new_list:', new_list)"
   ]
  },
  {
   "cell_type": "markdown",
   "metadata": {},
   "source": [
    "## #9  Given a two Python list. Iterate both lists simultaneously such that list1 should display item in original order and list2 in reverse order.\n",
    "Given input:\n",
    "```\n",
    "list1 = [10, 20, 30, 40]\n",
    "list2 = [100, 200, 300, 400]\n",
    "```\n",
    "\n",
    "Expected Output:\n",
    "```\n",
    "10 400\n",
    "20 300\n",
    "30 200\n",
    "40 100\n",
    "```"
   ]
  },
  {
   "cell_type": "code",
   "execution_count": 14,
   "metadata": {},
   "outputs": [
    {
     "name": "stdout",
     "output_type": "stream",
     "text": [
      "10   400\n",
      "20   300\n",
      "30   200\n",
      "40   100\n"
     ]
    }
   ],
   "source": [
    "# Given two Python lists, iterate both lists simultaneously such that:\n",
    "# list1 should display item in original order and list2 in reverse order.\n",
    "list1 = [10, 20, 30, 40]\n",
    "list2 = [100, 200, 300, 400]\n",
    "\n",
    "# Sizes of the two lists.\n",
    "list1_size = len(list1)\n",
    "list2_size = len(list2)\n",
    "\n",
    "# The minimum size of the two lists if they are not equal. To avoid IndexError: list index out of range.\n",
    "minimum_size = min(list1_size, list2_size)\n",
    "\n",
    "for i in range(minimum_size):\n",
    "    print(list1[i], ' ', list2[-i - 1])"
   ]
  },
  {
   "cell_type": "markdown",
   "metadata": {},
   "source": [
    "## #10 Remove empty strings from the list of strings.\n",
    "Input:  `list_of_strings = ['I', 'love', '', '', 'data', '', 'science', '!']`\n",
    "\n",
    "Expected Output:  `['I', 'love', 'data', 'science', '!']`"
   ]
  },
  {
   "cell_type": "code",
   "execution_count": 6,
   "metadata": {},
   "outputs": [],
   "source": [
    "# Remove empty strings from the list of strings.\n",
    "list_of_strings = ['I', 'love', '', '', 'data', '', 'science', '!']\n",
    "\n",
    "# Keep iterating while there are empty strings in the list_of_strings.\n",
    "# If there are empty strings in the list_of_strings, then remove them.\n",
    "while '' in list_of_strings:\n",
    "    list_of_strings.remove('')\n",
    "\n",
    "# Print the result.\n",
    "print('list_of_strings:', list_of_strings)"
   ]
  },
  {
   "cell_type": "markdown",
   "metadata": {},
   "source": [
    "##  #11 Check if the value 999 exists in the dicitionary below.  If so, print true, if not print false.\n",
    "\n",
    "Input: sample_dict = {'a': 100, 'b': 999, 'c': 300}\n",
    "\n",
    "Expected Output:  True"
   ]
  },
  {
   "cell_type": "code",
   "execution_count": 19,
   "metadata": {},
   "outputs": [
    {
     "name": "stdout",
     "output_type": "stream",
     "text": [
      "Question: Does the value  999  exist in the dictionary?\n",
      "Answer: True\n"
     ]
    }
   ],
   "source": [
    "# Check if the value 999 exists in the dictionary below. If so, print True, if not print False.\n",
    "sample_dict = {'a': 100, 'b': 999, 'c': 300}\n",
    "\n",
    "# Value to look for in the dictionary.\n",
    "value = 999\n",
    "print('Question: Does the value ', value, ' exist in the dictionary?')\n",
    "\n",
    "if value in sample_dict.values():\n",
    "    print('Answer:', True)\n",
    "else:\n",
    "    print('Answer:', False)"
   ]
  },
  {
   "cell_type": "markdown",
   "metadata": {},
   "source": [
    "# Extra Credit"
   ]
  },
  {
   "cell_type": "markdown",
   "metadata": {},
   "source": [
    "## Using pandas, read the csv file in the data folder called `titianic.csv` and store it as a variable named `df`."
   ]
  },
  {
   "cell_type": "code",
   "execution_count": 21,
   "metadata": {},
   "outputs": [
    {
     "data": {
      "text/html": [
       "<div>\n",
       "<style scoped>\n",
       "    .dataframe tbody tr th:only-of-type {\n",
       "        vertical-align: middle;\n",
       "    }\n",
       "\n",
       "    .dataframe tbody tr th {\n",
       "        vertical-align: top;\n",
       "    }\n",
       "\n",
       "    .dataframe thead th {\n",
       "        text-align: right;\n",
       "    }\n",
       "</style>\n",
       "<table border=\"1\" class=\"dataframe\">\n",
       "  <thead>\n",
       "    <tr style=\"text-align: right;\">\n",
       "      <th></th>\n",
       "      <th>passengerid</th>\n",
       "      <th>survived</th>\n",
       "      <th>pclass</th>\n",
       "      <th>name</th>\n",
       "      <th>sex</th>\n",
       "      <th>age</th>\n",
       "      <th>sibsp</th>\n",
       "      <th>parch</th>\n",
       "      <th>ticket</th>\n",
       "      <th>fare</th>\n",
       "      <th>cabin</th>\n",
       "      <th>embarked</th>\n",
       "    </tr>\n",
       "  </thead>\n",
       "  <tbody>\n",
       "    <tr>\n",
       "      <th>0</th>\n",
       "      <td>1</td>\n",
       "      <td>0</td>\n",
       "      <td>3</td>\n",
       "      <td>Braund, Mr. Owen Harris</td>\n",
       "      <td>male</td>\n",
       "      <td>22.0</td>\n",
       "      <td>1</td>\n",
       "      <td>0</td>\n",
       "      <td>A/5 21171</td>\n",
       "      <td>7.2500</td>\n",
       "      <td>NaN</td>\n",
       "      <td>S</td>\n",
       "    </tr>\n",
       "    <tr>\n",
       "      <th>1</th>\n",
       "      <td>2</td>\n",
       "      <td>1</td>\n",
       "      <td>1</td>\n",
       "      <td>Cumings, Mrs. John Bradley (Florence Briggs Th...</td>\n",
       "      <td>female</td>\n",
       "      <td>38.0</td>\n",
       "      <td>1</td>\n",
       "      <td>0</td>\n",
       "      <td>PC 17599</td>\n",
       "      <td>71.2833</td>\n",
       "      <td>C85</td>\n",
       "      <td>C</td>\n",
       "    </tr>\n",
       "    <tr>\n",
       "      <th>2</th>\n",
       "      <td>3</td>\n",
       "      <td>1</td>\n",
       "      <td>3</td>\n",
       "      <td>Heikkinen, Miss. Laina</td>\n",
       "      <td>female</td>\n",
       "      <td>26.0</td>\n",
       "      <td>0</td>\n",
       "      <td>0</td>\n",
       "      <td>STON/O2. 3101282</td>\n",
       "      <td>7.9250</td>\n",
       "      <td>NaN</td>\n",
       "      <td>S</td>\n",
       "    </tr>\n",
       "    <tr>\n",
       "      <th>3</th>\n",
       "      <td>4</td>\n",
       "      <td>1</td>\n",
       "      <td>1</td>\n",
       "      <td>Futrelle, Mrs. Jacques Heath (Lily May Peel)</td>\n",
       "      <td>female</td>\n",
       "      <td>35.0</td>\n",
       "      <td>1</td>\n",
       "      <td>0</td>\n",
       "      <td>113803</td>\n",
       "      <td>53.1000</td>\n",
       "      <td>C123</td>\n",
       "      <td>S</td>\n",
       "    </tr>\n",
       "    <tr>\n",
       "      <th>4</th>\n",
       "      <td>5</td>\n",
       "      <td>0</td>\n",
       "      <td>3</td>\n",
       "      <td>Allen, Mr. William Henry</td>\n",
       "      <td>male</td>\n",
       "      <td>35.0</td>\n",
       "      <td>0</td>\n",
       "      <td>0</td>\n",
       "      <td>373450</td>\n",
       "      <td>8.0500</td>\n",
       "      <td>NaN</td>\n",
       "      <td>S</td>\n",
       "    </tr>\n",
       "  </tbody>\n",
       "</table>\n",
       "</div>"
      ],
      "text/plain": [
       "   passengerid  survived  pclass  \\\n",
       "0            1         0       3   \n",
       "1            2         1       1   \n",
       "2            3         1       3   \n",
       "3            4         1       1   \n",
       "4            5         0       3   \n",
       "\n",
       "                                                name     sex   age  sibsp  \\\n",
       "0                            Braund, Mr. Owen Harris    male  22.0      1   \n",
       "1  Cumings, Mrs. John Bradley (Florence Briggs Th...  female  38.0      1   \n",
       "2                             Heikkinen, Miss. Laina  female  26.0      0   \n",
       "3       Futrelle, Mrs. Jacques Heath (Lily May Peel)  female  35.0      1   \n",
       "4                           Allen, Mr. William Henry    male  35.0      0   \n",
       "\n",
       "   parch            ticket     fare cabin embarked  \n",
       "0      0         A/5 21171   7.2500   NaN        S  \n",
       "1      0          PC 17599  71.2833   C85        C  \n",
       "2      0  STON/O2. 3101282   7.9250   NaN        S  \n",
       "3      0            113803  53.1000  C123        S  \n",
       "4      0            373450   8.0500   NaN        S  "
      ]
     },
     "execution_count": 21,
     "metadata": {},
     "output_type": "execute_result"
    }
   ],
   "source": [
    "# Import the module pandas.\n",
    "import pandas as pd\n",
    "df = pd.read_csv(filepath_or_buffer='data/titanic.csv')\n",
    "df.head()"
   ]
  },
  {
   "cell_type": "markdown",
   "metadata": {},
   "source": [
    "## I know we didn't cover this, but figure out how to find the mean age of the age column in your dataframe. "
   ]
  },
  {
   "cell_type": "code",
   "execution_count": 22,
   "metadata": {},
   "outputs": [
    {
     "name": "stdout",
     "output_type": "stream",
     "text": [
      "The mean age of the age column in my dataframe is: 29.69911764705882\n"
     ]
    }
   ],
   "source": [
    "# Find the mean age of the age column in your dataframe.\n",
    "mean_age = df['age'].mean()\n",
    "\n",
    "# Print the result.\n",
    "print('The mean age of the age column in my dataframe is:', mean_age)"
   ]
  },
  {
   "cell_type": "markdown",
   "metadata": {},
   "source": [
    "## What was the oldest and youngest ages on the titanic?"
   ]
  },
  {
   "cell_type": "code",
   "execution_count": 24,
   "metadata": {},
   "outputs": [
    {
     "name": "stdout",
     "output_type": "stream",
     "text": [
      "The oldest age on the titanic was: 80.0\n",
      "The youngest age on the titanic was: 0.42\n"
     ]
    }
   ],
   "source": [
    "# Find the oldest age on the titanic.\n",
    "oldest_age = df['age'].max()\n",
    "# Find the youngest age on the titanic.\n",
    "youngest_age = df['age'].min()\n",
    "\n",
    "# Print the results.\n",
    "print('The oldest age on the titanic was:', oldest_age)\n",
    "print('The youngest age on the titanic was:', youngest_age)"
   ]
  },
  {
   "cell_type": "markdown",
   "metadata": {},
   "source": [
    "## How many people embarked from station 'S'?"
   ]
  },
  {
   "cell_type": "code",
   "execution_count": null,
   "metadata": {},
   "outputs": [],
   "source": [
    "# Find how many people embarked from station 'S'.\n",
    "station_s = list(df['embarked']).count('S')\n",
    "\n",
    "# Print the result.\n",
    "print('The number of people who embarked from station \\'S\\' was:', station_s)"
   ]
  }
 ],
 "metadata": {
  "kernelspec": {
   "display_name": "Python 3 (ipykernel)",
   "language": "python",
   "name": "python3"
  },
  "language_info": {
   "codemirror_mode": {
    "name": "ipython",
    "version": 3
   },
   "file_extension": ".py",
   "mimetype": "text/x-python",
   "name": "python",
   "nbconvert_exporter": "python",
   "pygments_lexer": "ipython3",
   "version": "3.9.12"
  }
 },
 "nbformat": 4,
 "nbformat_minor": 4
}
