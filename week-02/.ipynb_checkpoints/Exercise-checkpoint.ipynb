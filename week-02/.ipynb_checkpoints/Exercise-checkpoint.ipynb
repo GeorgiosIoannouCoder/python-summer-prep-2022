{
 "cells": [
  {
   "cell_type": "markdown",
   "metadata": {},
   "source": [
    "# Ioannou_Georgios"
   ]
  },
  {
   "cell_type": "markdown",
   "metadata": {},
   "source": [
    "## Copyright © 2022 by Georgios Ioannou"
   ]
  },
  {
   "cell_type": "markdown",
   "metadata": {},
   "source": [
    "# Problem Alphabet Slices\n",
    "* Store the first ten letters of the alphabet in a list.\n",
    "* Use a slice to print out the first three letters of the alphabet.\n",
    "* Use a slice to print out any three letters from the middle of your list."
   ]
  },
  {
   "cell_type": "code",
   "execution_count": 1,
   "metadata": {},
   "outputs": [
    {
     "name": "stdout",
     "output_type": "stream",
     "text": [
      "['a', 'b', 'c']\n",
      "['e', 'f', 'g']\n"
     ]
    }
   ],
   "source": [
    "# Solve Alphabet slices here. \n",
    "# Store the first ten letters of the alphabet in a list.\n",
    "alphabet_list = ['a', 'b', 'c', 'd', 'e', 'f', 'g', 'h', 'i', 'j']\n",
    "\n",
    "# Use a slice to print out the first three letters of the alphabet.\n",
    "print(alphabet_list[:3])\n",
    "\n",
    "# Use a slice to print out any three letters from the middle of your list.\n",
    "print(alphabet_list[4:7])"
   ]
  },
  {
   "cell_type": "markdown",
   "metadata": {},
   "source": [
    "# Problem:  Covert all the rapper names to title case and save them into a new different list. \n",
    "example: lil wayne becomes Lil Wayne"
   ]
  },
  {
   "cell_type": "code",
   "execution_count": 2,
   "metadata": {},
   "outputs": [
    {
     "name": "stdout",
     "output_type": "stream",
     "text": [
      "['Lil Wayne', 'Nicki Minaj', 'Drake']\n"
     ]
    }
   ],
   "source": [
    "# Solve rapper names here\n",
    "# Store the rappers in a list.\n",
    "rappers = ['lil wayne', 'nicki minaj', 'drake']\n",
    "\n",
    "# Store the title case version of the rappers in a list.\n",
    "rappers_title_case = []\n",
    "\n",
    "# Populate the rappers_title_case list.\n",
    "for rapper in rappers:\n",
    "    rappers_title_case.append(rapper.title())\n",
    "\n",
    "# Print out the rappers_title_case list.\n",
    "print(rappers_title_case)"
   ]
  },
  {
   "cell_type": "markdown",
   "metadata": {},
   "source": [
    "# Problem: Write a function thats input is a number and output is:\n",
    "* Return True if the input number is even.\n",
    "* Return False if the input number is odd."
   ]
  },
  {
   "cell_type": "code",
   "execution_count": 3,
   "metadata": {},
   "outputs": [
    {
     "name": "stdout",
     "output_type": "stream",
     "text": [
      "Is 5 an even number: False\n",
      "Is 6 an even number: True\n"
     ]
    }
   ],
   "source": [
    "# Solve problem here\n",
    "def is_even(x):\n",
    "    # If x is divided by 2 and the remainder is zero, then the number is even.\n",
    "    # Otherwise, the number is odd.\n",
    "    if (x % 2) == 0:\n",
    "        return True\n",
    "    else:\n",
    "        return False\n",
    "\n",
    "\n",
    "# Call the function is_even(x) and print out the results.\n",
    "result = is_even(5)\n",
    "print('Is 5 an even number:', result)\n",
    "\n",
    "result = is_even(6)\n",
    "print('Is 6 an even number:', result)"
   ]
  },
  {
   "cell_type": "markdown",
   "metadata": {},
   "source": [
    "# Problem: Find the sum and the average of this list of numbers.\n",
    "\n",
    "Try doing this using a loop.  Then try doing this without using a loop. "
   ]
  },
  {
   "cell_type": "code",
   "execution_count": 4,
   "metadata": {},
   "outputs": [
    {
     "name": "stdout",
     "output_type": "stream",
     "text": [
      "Using a loop.\n",
      "Sum = 353\n",
      "Average = 35.3 \n",
      "\n",
      "Without using a loop.\n",
      "353 35.3\n"
     ]
    }
   ],
   "source": [
    "# Solve problem here:\n",
    "# Store the numbers in a list.\n",
    "my_list = [1, 5, 10, 55, 88, 44, 42, 50, 20, 38]\n",
    "\n",
    "# Using a loop.\n",
    "# Variable list_sum_loop stores the sum of all elements in the list my_list.\n",
    "list_sum_loop = 0\n",
    "# Variable counter stores the number of elements in the list my_list.\n",
    "counter = 0\n",
    "\n",
    "# Iterate over all numbers in the list my_list.\n",
    "for number in my_list:\n",
    "    # Add all the numbers in the list my_list.\n",
    "    list_sum_loop += number\n",
    "    # Count the number of elements in the list my_list.\n",
    "    counter += 1\n",
    "\n",
    "# Variable list_avg stores the average of all the elements in the list my_list.\n",
    "list_avg = list_sum_loop / counter\n",
    "\n",
    "# Without using a loop.\n",
    "list_sum = sum(my_list)\n",
    "list_average = sum(my_list) / len(my_list)\n",
    "\n",
    "# Print out the results.\n",
    "print('Using a loop.')\n",
    "print('Sum =', list_sum_loop)\n",
    "print('Average =', list_avg, '\\n')\n",
    "print('Without using a loop.')\n",
    "\n",
    "# Keep this as your last line in this cell.\n",
    "print(list_sum, list_average)"
   ]
  },
  {
   "cell_type": "markdown",
   "metadata": {},
   "source": [
    "# Problem: Write a function that input is a number and output returns the following\n",
    "* If the input is divisible by three, return 'fizz'\n",
    "* If the input is divisible by five, return 'buzz'\n",
    "* If the input is divisible by three and by five, return 'fizzbuzz'\n",
    "* If the input is not divisible by three or five, return None."
   ]
  },
  {
   "cell_type": "code",
   "execution_count": 5,
   "metadata": {},
   "outputs": [
    {
     "name": "stdout",
     "output_type": "stream",
     "text": [
      "3: fizz\n",
      "5: buzz\n",
      "15: fizzbuzz\n",
      "7: None\n"
     ]
    }
   ],
   "source": [
    "# Solve Problem fizzbuzz here:\n",
    "def fizz_buzz(x):\n",
    "    # If x is divided both by 3 and 5 the remainder is zero, then print out 'fizzbuzz'.\n",
    "    # If x is divided by 3 and the remainder is zero, then print out 'fizz'.\n",
    "    # If x is divided by 5 and the remainder is zero, then print out 'buzz'.\n",
    "    # If x is not exactly divisible by 3 or 5, then print out None.\n",
    "    if ((x % 3) == 0) and ((x % 5) == 0):\n",
    "        return 'fizzbuzz'\n",
    "    elif (x % 3) == 0:\n",
    "        return 'fizz'\n",
    "    elif (x % 5) == 0:\n",
    "        return 'buzz'\n",
    "    else:\n",
    "        return None\n",
    "\n",
    "\n",
    "# Call the function fizz_buzz(x) and print out the results.\n",
    "print('3:', fizz_buzz(3))\n",
    "print('5:', fizz_buzz(5))\n",
    "print('15:', fizz_buzz(15))\n",
    "print('7:', (fizz_buzz(7)))"
   ]
  },
  {
   "cell_type": "markdown",
   "metadata": {},
   "source": [
    "# Problem: \n",
    "Write a function that takes a list and returns a new list that contains all the elements of the first list minus all the duplicates.\n",
    "\n",
    "Example input and expected output\n",
    "\n",
    "input = [\"Michele\", \"Robin\", \"Sara\", \"Michele\"]\n",
    "\n",
    "expected output = ['Michele', 'Robin', 'Sara']\n"
   ]
  },
  {
   "cell_type": "code",
   "execution_count": 6,
   "metadata": {},
   "outputs": [
    {
     "name": "stdout",
     "output_type": "stream",
     "text": [
      "names = ['Michele', 'Robin', 'Sara', 'Michele']\n",
      "names_without_duplicates = ['Michele', 'Robin', 'Sara']\n"
     ]
    }
   ],
   "source": [
    "# Solve problem here:\n",
    "def remove_duplicates(parameter_list):\n",
    "    # Convert parameter_list to a dictionary. This will remove duplicates. A dictionary does not allow duplicates.\n",
    "    # Convert the dictionary back to a list and return a new list without duplicates.\n",
    "    return list(dict.fromkeys(parameter_list))\n",
    "\n",
    "\n",
    "# Store the names in a list.\n",
    "names = [\"Michele\", \"Robin\", \"Sara\", \"Michele\"]\n",
    "# Call the function remove_duplicates(parameter_list).\n",
    "names_without_duplicates = remove_duplicates(names)\n",
    "\n",
    "# Print out the results.\n",
    "print('names =', names)\n",
    "print('names_without_duplicates =', names_without_duplicates)"
   ]
  },
  {
   "cell_type": "markdown",
   "metadata": {},
   "source": [
    "# Problem: \n",
    "Write a function that takes a list of numbers (for example, a = [5, 10, 15, 20, 25]) and returns a new list of only the first and last elements of the given list.\n",
    "\n",
    "Example input and expected output:\n",
    "\n",
    "input = [5, 10, 15, 20, 25]\n",
    "\n",
    "expected output = [5, 25]"
   ]
  },
  {
   "cell_type": "code",
   "execution_count": 7,
   "metadata": {},
   "outputs": [
    {
     "name": "stdout",
     "output_type": "stream",
     "text": [
      "input_list = [5, 10, 99, 20, 25]\n",
      "b = [5, 25]\n"
     ]
    }
   ],
   "source": [
    "# Solve problem here:\n",
    "def first_last(parameter_list):\n",
    "    # First element is found at parameter_list[0].\n",
    "    # Last element is found at parameter_list[-1].\n",
    "    new_list = [parameter_list[0], parameter_list[-1]]\n",
    "    return new_list\n",
    "\n",
    "\n",
    "# Store the numbers in a list.\n",
    "input_list = [5, 10, 99, 20, 25]\n",
    "\n",
    "# Call the function first_last(parameter_list).\n",
    "b = first_last(input_list)\n",
    "\n",
    "# Print out the two lists.\n",
    "print('input_list =', input_list)\n",
    "print('b =', b)"
   ]
  },
  {
   "cell_type": "markdown",
   "metadata": {},
   "source": [
    "# Problem:  Implement a function that takes as input three variables, and returns the largest of the three. \n",
    "Do this without using the Python max() function! \n",
    "_*Note all three input numbers will always be different, no need to account for a tie._\n",
    "\n",
    "Example input and expected output:\n",
    "\n",
    "input = your_function(1, 5, 10)\n",
    "\n",
    "expected output:  10"
   ]
  },
  {
   "cell_type": "code",
   "execution_count": 8,
   "metadata": {},
   "outputs": [],
   "source": [
    "# Solve Problem here:\n",
    "\n",
    "def your_function(a, b, c):\n",
    "    # Fill in your code below and return max value of a, b, c\n",
    "    if (a > b) and (a > c):\n",
    "        return a\n",
    "    elif (b > a) and (b > c):\n",
    "        return b\n",
    "    else:\n",
    "        return c"
   ]
  },
  {
   "cell_type": "code",
   "execution_count": 9,
   "metadata": {},
   "outputs": [
    {
     "name": "stdout",
     "output_type": "stream",
     "text": [
      "Largest of (1, 5, 10): 10\n",
      "Largest of (30, 7, 23): 30\n",
      "Largest of (100, 49, 15): 100\n"
     ]
    }
   ],
   "source": [
    "# Test to see if your function works properly.\n",
    "print('Largest of (1, 5, 10):', your_function(1, 5, 10))\n",
    "print('Largest of (30, 7, 23):', your_function(30, 7, 23))\n",
    "print('Largest of (100, 49, 15):', your_function(100, 49, 15))"
   ]
  }
 ],
 "metadata": {
  "kernelspec": {
   "display_name": "Python 3 (ipykernel)",
   "language": "python",
   "name": "python3"
  },
  "language_info": {
   "codemirror_mode": {
    "name": "ipython",
    "version": 3
   },
   "file_extension": ".py",
   "mimetype": "text/x-python",
   "name": "python",
   "nbconvert_exporter": "python",
   "pygments_lexer": "ipython3",
   "version": "3.9.12"
  }
 },
 "nbformat": 4,
 "nbformat_minor": 4
}
