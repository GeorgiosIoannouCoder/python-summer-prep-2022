{
 "cells": [
  {
   "cell_type": "markdown",
   "metadata": {},
   "source": [
    "# Ioannou_Georgios"
   ]
  },
  {
   "cell_type": "markdown",
   "metadata": {},
   "source": [
    "## Copyright © 2022 by Georgios Ioannou"
   ]
  },
  {
   "cell_type": "markdown",
   "metadata": {},
   "source": [
    "# List Overlap \n",
    "Write a program that returns a list that contains only the elements that are common between the lists (without duplicates). Make sure your program works on two lists of different sizes."
   ]
  },
  {
   "cell_type": "code",
   "execution_count": 1,
   "metadata": {},
   "outputs": [
    {
     "name": "stdout",
     "output_type": "stream",
     "text": [
      "[1, 2, 3, 5, 8, 13]\n"
     ]
    }
   ],
   "source": [
    "a = [1, 1, 2, 3, 5, 8, 13, 21, 34, 55, 89]\n",
    "b = [1, 2, 3, 4, 5, 6, 7, 8, 9, 10, 11, 12, 13]\n",
    "\n",
    "# Transform the first list to a set to remove any duplicates.\n",
    "# Then, use the intersection method to find elements that are common between the two lists.\n",
    "# Finally, transform the final result to a list and print it.\n",
    "print(list(set(a).intersection(b)))"
   ]
  },
  {
   "cell_type": "markdown",
   "metadata": {},
   "source": [
    "# Rock Paper Scissors\n",
    "\n",
    "Make a two-player Rock-Paper-Scissors game. (Hint: Ask for player plays (using input), compare them, print out a message of congratulations to the winner.)\n",
    "\n",
    "Remember the rules:\n",
    "\n",
    "* Rock beats scissors\n",
    "* Scissors beats paper\n",
    "* Paper beats rock"
   ]
  },
  {
   "cell_type": "code",
   "execution_count": 2,
   "metadata": {},
   "outputs": [
    {
     "name": "stdout",
     "output_type": "stream",
     "text": [
      "Welcome to the Rock Paper Scissors game!\n",
      "----------------------------------------\n",
      "Rules:\n",
      "-> Rock beats Scissors.\n",
      "-> Scissors beats Paper.\n",
      "-> Paper beats Rock.\n",
      "\n",
      "There are only 3 choices in the Rock Paper Scissors game:\n",
      "-> 1. Rock\n",
      "-> 2. Scissors\n",
      "-> 3. Paper\n",
      "~~~~~~~~~~~~~~~~~~~~~~~~~~~~~~~~~~~~~~~~~~~~~~~~~~~~~~~~~\n",
      "Player 1 turn(please fully type your choice or select choice number from above):RoCk\n",
      "Player 2 turn(please fully type your choice or select choice number from above):3\n",
      "Player 1: rock\n",
      "Player 2: paper\n",
      "Result: Player 2 is the Winner!\n"
     ]
    }
   ],
   "source": [
    "def rules():\n",
    "    print('Welcome to the Rock Paper Scissors game!')\n",
    "    print('----------------------------------------')\n",
    "    print('Rules:')\n",
    "    print('-> Rock beats Scissors.')\n",
    "    print('-> Scissors beats Paper.')\n",
    "    print('-> Paper beats Rock.')\n",
    "    print()\n",
    "\n",
    "\n",
    "def choices():\n",
    "    print('There are only 3 choices in the Rock Paper Scissors game:')\n",
    "    print('-> 1. Rock')\n",
    "    print('-> 2. Scissors')\n",
    "    print('-> 3. Paper')\n",
    "    print('~~~~~~~~~~~~~~~~~~~~~~~~~~~~~~~~~~~~~~~~~~~~~~~~~~~~~~~~~')\n",
    "\n",
    "\n",
    "def get_player_choice(player_number):\n",
    "    # Keep asking the player for a valid choice.\n",
    "    # Valid choices are included in the choices() function defined above.\n",
    "    while(True):\n",
    "        player_choice = input('Player ' + str(player_number) + ' turn(please fully type your choice or select choice number from above):').lower()\n",
    "        if player_choice in ['rock', 'scissors', 'paper' , '1', '2', '3']:\n",
    "            if player_choice == '1':\n",
    "                player_choice = 'rock'\n",
    "            elif player_choice == '2':\n",
    "                player_choice = 'scissors'\n",
    "            elif player_choice == '3':\n",
    "                player_choice = 'paper'\n",
    "            break\n",
    "        else:\n",
    "            print('Payer ', player_number, ' please input a valid choice.')\n",
    "    return player_choice\n",
    "\n",
    "\n",
    "def get_input():\n",
    "    player_one_choice = get_player_choice(1)\n",
    "    player_two_choice = get_player_choice(2)\n",
    "    return player_one_choice, player_two_choice\n",
    "\n",
    "\n",
    "def get_winner_message(player_one_choice, player_two_choice):\n",
    "    if player_one_choice == player_two_choice:\n",
    "        return 'Tie'\n",
    "    elif ((player_one_choice == 'rock') and (player_two_choice == 'scissors')) or ((player_one_choice == 'scissors') and (player_two_choice == 'paper')) or ((player_one_choice == 'paper') and (player_two_choice == 'rock')):\n",
    "        return 'Player 1 is the Winner!'\n",
    "    else:\n",
    "        return 'Player 2 is the Winner!'\n",
    "\n",
    "\n",
    "def print_results(player_one_choice, player_two_choice, result):\n",
    "    print('Player 1:', player_one_choice)\n",
    "    print('Player 2:', player_two_choice)\n",
    "    print('Result:', result)\n",
    "    return None\n",
    "\n",
    "\n",
    "# Print the rules of the Rock Paper Scissors game by calling the function rules().\n",
    "rules()\n",
    "# Print the available choices that the two players have by calling the function choices().\n",
    "choices()\n",
    "\n",
    "# Get the input choices from the two players by calling the function get_input().\n",
    "player_one_choice, player_two_choice = get_input()\n",
    "\n",
    "# Determine the final result of the game depending on the choices of the two players by calling the function get_winner_message().\n",
    "result = get_winner_message(player_one_choice, player_two_choice)\n",
    "\n",
    "# Print the final results by calling the function print_results().\n",
    "print_results(player_one_choice, player_two_choice, result)"
   ]
  },
  {
   "cell_type": "markdown",
   "metadata": {},
   "source": [
    "# Palindrome \n",
    "\n",
    "Ask the user for a string and print out whether this string is a palindrome or not. (A palindrome is a string that reads the same forwards and backwards.)"
   ]
  },
  {
   "cell_type": "code",
   "execution_count": 3,
   "metadata": {},
   "outputs": [
    {
     "name": "stdout",
     "output_type": "stream",
     "text": [
      "Please input a string to check if it is a palindrome:radar\n",
      "Original string: radar\n",
      "Reversed string: radar\n",
      "' radar ' is a palindrome\n"
     ]
    }
   ],
   "source": [
    "def is_palindrome(user_input_string):\n",
    "    # A string can be reversed using the string slicing [::-1].\n",
    "    print('Original string:', user_input_string)\n",
    "    print('Reversed string:', user_input_string[::-1])\n",
    "    \n",
    "    if user_input_string == user_input_string[::-1]:\n",
    "        return True\n",
    "    else:\n",
    "        return False\n",
    "\n",
    "\n",
    "# Get the input string from the user.\n",
    "user_input_string = input('Please input a string to check if it is a palindrome:')\n",
    "\n",
    "# Check if the input string from the user is a palindrome by calling the function is_palindrome(user_input_string).\n",
    "result = is_palindrome(user_input_string)\n",
    "\n",
    "# Print the final results.\n",
    "if result:\n",
    "    print('\\'', user_input_string, '\\' is a palindrome')\n",
    "else:\n",
    "    print('\\'', user_input_string, '\\' is not a palindrome.')"
   ]
  },
  {
   "cell_type": "markdown",
   "metadata": {},
   "source": [
    "# Password Generator\n",
    "Write a password generator in Python. Be creative with how you generate passwords - strong passwords have a mix of lowercase letters, uppercase letters, numbers, and symbols. The passwords should be random.  Ask the user to input how long they want their password to be. "
   ]
  },
  {
   "cell_type": "code",
   "execution_count": 4,
   "metadata": {},
   "outputs": [
    {
     "name": "stdout",
     "output_type": "stream",
     "text": [
      "How long do you want your password to be:30\n",
      "Generated Password: An@kgMYjTk3GzLG!)P3(CXH^ni7jeC\n"
     ]
    }
   ],
   "source": [
    "# Import the module random. Module random provides the method choice.\n",
    "import random\n",
    "\n",
    "\n",
    "def generate_password(password_length, chars):\n",
    "    generated_password = ''\n",
    "    \n",
    "    for i in range(password_length):\n",
    "        generated_password += random.choice(chars)\n",
    "    \n",
    "    return generated_password\n",
    "\n",
    "\n",
    "# String of characters that will make up the generated password.\n",
    "chars = \"abcdefghijklmnopqrstuvwxyz01234567890ABCDEFGHIJKLMNOPQRSTUVWXYZ!@#$%^&*()?\"\n",
    "\n",
    "# Get the length of the password from the user.\n",
    "password_length = int(input('How long do you want your password to be:'))\n",
    "\n",
    "# Generate the password by calling the function generate_password(password_length, chars).\n",
    "generated_password = generate_password(password_length, chars)\n",
    "\n",
    "# Print the generated password.\n",
    "print('Generated Password:', generated_password)"
   ]
  },
  {
   "cell_type": "markdown",
   "metadata": {},
   "source": [
    "# Divisors Solutions\n",
    "\n",
    "Create a program that asks the user for a number and then prints out a list of all the divisors of that number. (If you don’t know what a divisor is, it is a number that divides evenly into another number. For example, 13 is a divisor of 26 because 26 / 13 has no remainder.)"
   ]
  },
  {
   "cell_type": "code",
   "execution_count": 5,
   "metadata": {},
   "outputs": [
    {
     "name": "stdout",
     "output_type": "stream",
     "text": [
      "Please input a number to print out a list of all the divisors of that number:96\n",
      "[1, 2, 3, 4, 6, 8, 12, 16, 24, 32, 48, 96]\n"
     ]
    }
   ],
   "source": [
    "def get_divisors(user_input_number):\n",
    "    # divisors list stores the divisors of the user_input_number.\n",
    "    divisors = []\n",
    "    \n",
    "    # A divisor is a number that divides evenly into another number. This can be done by using the % operator.\n",
    "    for i in range(1, user_input_number + 1):\n",
    "        if user_input_number % i == 0:\n",
    "            divisors.append(i)\n",
    "    return divisors\n",
    "\n",
    "\n",
    "# Get the number form the user.\n",
    "user_input_number = int(input('Please input a number to print out a list of all the divisors of that number:'))\n",
    "\n",
    "# Get the divisors by calling the function get_divisors(user_input_number).\n",
    "divisors = get_divisors(user_input_number)\n",
    "\n",
    "# Print the divisors in a list.\n",
    "print(divisors)"
   ]
  },
  {
   "cell_type": "markdown",
   "metadata": {},
   "source": [
    "# Missing Character\n",
    "Given a non-empty string and an int n, return a new string where the char at index n has been removed. The value of n will be a valid index of a char in the original string (i.e. n will be in the range 0..len(str)-1 inclusive).\n",
    "\n",
    "```\n",
    "missing_char('kitten', 1) → 'ktten'\n",
    "missing_char('kitten', 0) → 'itten'\n",
    "missing_char('kitten', 4) → 'kittn'\n",
    "\n",
    "```"
   ]
  },
  {
   "cell_type": "code",
   "execution_count": 6,
   "metadata": {},
   "outputs": [
    {
     "name": "stdout",
     "output_type": "stream",
     "text": [
      "Please input a non-empty string:kitten\n",
      "Please input the index of the char that you want to remove from the non-empty string:4\n",
      "kittn\n"
     ]
    }
   ],
   "source": [
    "def missing_char(word, n):\n",
    "    # Solution 2\n",
    "    # word_list = list(word)\n",
    "    # word_list.pop(n)\n",
    "    # return(word_list)\n",
    "    \n",
    "    # Solution 1\n",
    "    # Skip the character at index n using string slicing.\n",
    "    return(word[0:n:] + word[n+1::])\n",
    "\n",
    "\n",
    "# Get the input string from the user.\n",
    "word = input('Please input a non-empty string:')\n",
    "# Get the index from the user.\n",
    "n = int(input('Please input the index of the char that you want to remove from the non-empty string:'))\n",
    "\n",
    "# Remove the character at index n from the string word by calling the function missing_char(word, n).\n",
    "new_word = missing_char(word, n)\n",
    "\n",
    "# Print the final results.\n",
    "print(new_word)"
   ]
  },
  {
   "cell_type": "markdown",
   "metadata": {},
   "source": [
    "# Centered Average\n",
    "\n",
    "Return the \"centered\" average of an array of ints, which we'll say is the mean average of the values, except ignoring the largest and smallest values in the array. If there are multiple copies of the smallest value, ignore just one copy, and likewise for the largest value.  You may assume that the array is length 3 or more and will never contain negative values. \n",
    "* Round your answer to the nearest whole number.\n",
    "\n",
    "```\n",
    "centered_average([1, 2, 3, 4, 100]) → 3\n",
    "centered_average([1, 1, 5, 5, 10, 8, 7]) → 5\n",
    "```"
   ]
  },
  {
   "cell_type": "code",
   "execution_count": 7,
   "metadata": {},
   "outputs": [
    {
     "name": "stdout",
     "output_type": "stream",
     "text": [
      "The centered average for the list [100, 100, 50, 75, 50, 25, 25, 25] is: 54\n"
     ]
    }
   ],
   "source": [
    "def get_centered_average(example_list):\n",
    "    # Calculate the minimum/smallest value in the example_list.\n",
    "    smallest_value = min(example_list)\n",
    "    # Calculate the maximum/largest value in the example_list.\n",
    "    largest_value = max(example_list)\n",
    "    \n",
    "    # Calculate and return the centered average.\n",
    "    # The calculation is done by excluding/subtracting the smallest_value and largest_value.\n",
    "    # The final result must also be rounded to the nearest whole number before returning.\n",
    "    return round((sum(example_list) - smallest_value - largest_value) / (len(example_list) - 2))\n",
    "\n",
    "\n",
    "example_list = [100, 100, 50, 75, 50, 25, 25, 25]\n",
    "\n",
    "# Calculate the centered average of the example_list by calling the function get_centered_average(example_list).\n",
    "centered_average = get_centered_average(example_list)\n",
    "\n",
    "# Print the final results.\n",
    "print('The centered average for the list', example_list, 'is:', centered_average)"
   ]
  }
 ],
 "metadata": {
  "kernelspec": {
   "display_name": "Python 3 (ipykernel)",
   "language": "python",
   "name": "python3"
  },
  "language_info": {
   "codemirror_mode": {
    "name": "ipython",
    "version": 3
   },
   "file_extension": ".py",
   "mimetype": "text/x-python",
   "name": "python",
   "nbconvert_exporter": "python",
   "pygments_lexer": "ipython3",
   "version": "3.9.12"
  },
  "vscode": {
   "interpreter": {
    "hash": "65d5652fffd87feaf743ef37473e74b12b6ed6ad429f17859c3e53a25ab1033a"
   }
  }
 },
 "nbformat": 4,
 "nbformat_minor": 4
}
